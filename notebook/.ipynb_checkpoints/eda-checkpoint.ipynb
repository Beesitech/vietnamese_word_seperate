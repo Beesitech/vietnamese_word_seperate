{
 "cells": [
  {
   "cell_type": "code",
   "execution_count": 1,
   "metadata": {},
   "outputs": [],
   "source": [
    "import pandas as pd"
   ]
  },
  {
   "cell_type": "code",
   "execution_count": 3,
   "metadata": {},
   "outputs": [],
   "source": [
    "train = pd.read_csv('../../data/word_seperate/corpus', header=None)"
   ]
  },
  {
   "cell_type": "code",
   "execution_count": null,
   "metadata": {},
   "outputs": [],
   "source": []
  },
  {
   "cell_type": "code",
   "execution_count": 4,
   "metadata": {},
   "outputs": [
    {
     "data": {
      "text/plain": [
       "                  294029\n",
       "của               129851\n",
       "và                107379\n",
       "có                 95754\n",
       "các                85632\n",
       "là                 82445\n",
       "trong              77859\n",
       "người              77631\n",
       "không              76158\n",
       "một                75100\n",
       "được               70154\n",
       "cho                69856\n",
       "đã                 68272\n",
       "với                64621\n",
       "những              63630\n",
       "học                56892\n",
       "dân                50706\n",
       "công               46807\n",
       "để                 45445\n",
       "nhân               44919\n",
       "ở                  43942\n",
       "tại                43324\n",
       "khi                42259\n",
       "về                 41156\n",
       "sự                 40403\n",
       "thể                39918\n",
       "năm                39004\n",
       "nhà                38059\n",
       "trí                37504\n",
       "từ                 36368\n",
       "                   ...  \n",
       "càphê                 21\n",
       "20111105              21\n",
       "kodak                 21\n",
       "vama                  21\n",
       "hãy                  21\n",
       "1088                  21\n",
       "héc                   21\n",
       "chửa                  21\n",
       "now                   21\n",
       "samson                21\n",
       "vịn                   21\n",
       "khamenei              21\n",
       "351                   21\n",
       "tạm                  21\n",
       "cản                  21\n",
       "chừa                  21\n",
       "nghách                21\n",
       "lí                   21\n",
       "blouse                21\n",
       "324                   21\n",
       "coppa                 21\n",
       "vqg                   21\n",
       "ozil                  21\n",
       "08112011              21\n",
       "khom                  21\n",
       "conocophillips        21\n",
       "full                  21\n",
       "saigontech            21\n",
       "xép                   21\n",
       "lawrence              21\n",
       "Length: 8420, dtype: int64"
      ]
     },
     "execution_count": 4,
     "metadata": {},
     "output_type": "execute_result"
    }
   ],
   "source": [
    "words = ' '.join(train[1].values.tolist()).split(' ')\n",
    "counts = pd.value_counts(words)\n",
    "counts[counts>20]"
   ]
  },
  {
   "cell_type": "code",
   "execution_count": null,
   "metadata": {},
   "outputs": [],
   "source": []
  }
 ],
 "metadata": {
  "kernelspec": {
   "display_name": "Python 3",
   "language": "python",
   "name": "python3"
  },
  "language_info": {
   "codemirror_mode": {
    "name": "ipython",
    "version": 3
   },
   "file_extension": ".py",
   "mimetype": "text/x-python",
   "name": "python",
   "nbconvert_exporter": "python",
   "pygments_lexer": "ipython3",
   "version": "3.6.5"
  }
 },
 "nbformat": 4,
 "nbformat_minor": 2
}
