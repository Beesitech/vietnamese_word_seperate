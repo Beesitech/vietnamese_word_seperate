{
 "cells": [
  {
   "cell_type": "code",
   "execution_count": 30,
   "metadata": {},
   "outputs": [],
   "source": [
    "import pandas as pd"
   ]
  },
  {
   "cell_type": "code",
   "execution_count": 31,
   "metadata": {},
   "outputs": [],
   "source": [
    "train = pd.read_csv('../data/corpus', header=None)"
   ]
  },
  {
   "cell_type": "code",
   "execution_count": null,
   "metadata": {},
   "outputs": [],
   "source": []
  },
  {
   "cell_type": "code",
   "execution_count": 32,
   "metadata": {},
   "outputs": [
    {
     "data": {
      "text/plain": [
       "                  294029\n",
       "của               129851\n",
       "và                107379\n",
       "có                 95754\n",
       "các                85632\n",
       "là                 82445\n",
       "trong              77859\n",
       "người              77631\n",
       "không              76158\n",
       "một                75100\n",
       "được               70154\n",
       "cho                69856\n",
       "đã                 68272\n",
       "với                64621\n",
       "những              63630\n",
       "học                56892\n",
       "dân                50706\n",
       "công               46807\n",
       "để                 45445\n",
       "nhân               44919\n",
       "ở                  43942\n",
       "tại                43324\n",
       "khi                42259\n",
       "về                 41156\n",
       "sự                 40403\n",
       "thể                39918\n",
       "năm                39004\n",
       "nhà                38059\n",
       "trí                37504\n",
       "từ                 36368\n",
       "                   ...  \n",
       "nóng                 21\n",
       "lai01687943582        21\n",
       "vqg                   21\n",
       "kmgiờ                 21\n",
       "đna                   21\n",
       "xẻng                  21\n",
       "353                   21\n",
       "lí                   21\n",
       "lazio                 21\n",
       "10h30                 21\n",
       "đồngm2tháng           21\n",
       "đồng…                 21\n",
       "bức                  21\n",
       "kéo                  21\n",
       "slimming              21\n",
       "hðqt                  21\n",
       "kardashian            21\n",
       "bani                  21\n",
       "chẵn                  21\n",
       "ngoằn                 21\n",
       "hamilton              21\n",
       "otofun                21\n",
       "vama                  21\n",
       "đồngm2               21\n",
       "phối                 21\n",
       "dềnh                  21\n",
       "việtnga               21\n",
       "cayenne               21\n",
       "đẽo                   21\n",
       "difc                  21\n",
       "Length: 8420, dtype: int64"
      ]
     },
     "execution_count": 32,
     "metadata": {},
     "output_type": "execute_result"
    }
   ],
   "source": [
    "words = ' '.join(train[1].values.tolist()).split(' ')\n",
    "counts = pd.value_counts(words)\n",
    "counts[counts>20]"
   ]
  },
  {
   "cell_type": "code",
   "execution_count": null,
   "metadata": {},
   "outputs": [],
   "source": []
  }
 ],
 "metadata": {
  "kernelspec": {
   "display_name": "Python 3",
   "language": "python",
   "name": "python3"
  },
  "language_info": {
   "codemirror_mode": {
    "name": "ipython",
    "version": 3
   },
   "file_extension": ".py",
   "mimetype": "text/x-python",
   "name": "python",
   "nbconvert_exporter": "python",
   "pygments_lexer": "ipython3",
   "version": "3.6.5"
  }
 },
 "nbformat": 4,
 "nbformat_minor": 2
}
